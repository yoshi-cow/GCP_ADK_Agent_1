{
 "cells": [
  {
   "cell_type": "markdown",
   "id": "355a1dc2",
   "metadata": {},
   "source": [
    "# web search をカスタム関数のサンプル\n",
    "\n",
    "- built-in ツールは、他のツールと併用できないため。built-in ツールの web search を使う場合は、他のツールを指定できなくなる（2025/6 時点の仕様）\n",
    "- そのため、他のツールと併用したいときは、カスタム関数として作成する必要がある\n",
    "- 以下は、そのカスタム関数の作成例\n"
   ]
  },
  {
   "cell_type": "code",
   "execution_count": null,
   "id": "c9fec12e",
   "metadata": {},
   "outputs": [],
   "source": [
    "from collections import OrderedDict\n",
    "from google import genai\n",
    "from google.genai.types import (\n",
    "    GoogleSearch,\n",
    "    Tool,\n",
    "    HttpOptions,\n",
    "    GenerateContentConfig,\n",
    "    GroundingChunkWeb,\n",
    ")\n",
    "from google.adk.tools.tool_context import ToolContext"
   ]
  },
  {
   "cell_type": "code",
   "execution_count": null,
   "id": "4208f140",
   "metadata": {},
   "outputs": [],
   "source": [
    "client = genai.Client(http_options=HttpOptions(api_version=\"v1\"))\n",
    "\n",
    "\n",
    "def web_search(\n",
    "    query: str, max_results: int = 5, tool_context: ToolContext | None = None\n",
    ") -> dict:\n",
    "    \"\"\"\n",
    "    Google検索で公開情報を取得して要約して返すツール\n",
    "\n",
    "    Args:\n",
    "        query (str): web search対象文\n",
    "        max_result (int): 検索結果の数\n",
    "        tool_context (ToolContext): The tool context\n",
    "\n",
    "    Returns:\n",
    "        dict: {\"web_answer\": 検索結果の要約, \"citations\": 参照サイトのリンク}\n",
    "    \"\"\"\n",
    "\n",
    "    search_tool = Tool(google_search=GoogleSearch())\n",
    "\n",
    "    resp = client.models.generate_content(\n",
    "        model=\"gemini-2.5-flash-preview-04-17\",\n",
    "        contents=f\"上位 {max_results} 件を検索して要約してください：\\n{query}\",\n",
    "        config=GenerateContentConfig(tools=[search_tool]),\n",
    "    )\n",
    "\n",
    "    answer = resp.text\n",
    "\n",
    "    return {\"wseb_answer\": answer}"
   ]
  },
  {
   "cell_type": "code",
   "execution_count": 9,
   "id": "ac5d1ba3",
   "metadata": {},
   "outputs": [
    {
     "data": {
      "text/plain": [
       "{'wseb_answer': 'Google ADK（Agent Development Kit）は、AIエージェントの開発、デプロイ、評価を容易にするためにGoogleが提供する、柔軟でモジュール式のオープンソースフレームワークです。\\n\\n上位5件の検索結果に基づく要約は以下の通りです。\\n\\n1.  **AIエージェント開発のためのフレームワーク**: ADKは、AIエージェントを開発およびデプロイするための柔軟でモジュール式のフレームワークです。GeminiやGoogleエコシステムに最適化されていますが、モデルやデプロイに依存せず、他のフレームワークとの互換性も考慮されています。これにより、シンプルなタスクから複雑なワークフローまで、エージェントベースのアーキテクチャを簡単に作成、デプロイ、オーケストレーションできるよう設計されています。\\n2.  **マルチエージェントシステムの構築を簡素化**: AIの分野は、単一目的モデルからインテリジェントで自律的なマルチエージェントシステムへと急速に移行しており、その構築には新たな課題があります。ADKは、このようなマルチエージェントシステムのエンドツーエンド開発を簡素化するために設計されたオープンソースフレームワークです。\\n3.  **開発ライフサイクル全体をサポート**: ADKは、AI搭載エージェントの構築、管理、評価、デプロイを可能にする堅牢で柔軟な環境を提供します。会話型および非会話型エージェントの両方を作成でき、複雑なタスクやワークフローを処理できます。PythonおよびJava向けのADKが提供されており、迅速な開始が可能です。\\n4.  **Google製品の内部技術をオープンソース化**: ADKは、AgentSpaceやGoogle Customer Engagement Suite（CES）などのGoogle製品内のエージェントに利用されているものと同じフレームワークです。これをオープンソース化することで、開発者が急速に進化するエージェント環境で強力かつ柔軟なツールを利用できるようにすることを目指しています。\\n5.  **柔軟性と制御性、デバッグ機能**: ADKは、複雑でプロダクション対応のAIエージェント、特にマルチモーダルまたはマルチエージェントシステムの構築における課題を軽減します。モデルに依存せず、デプロイにも依存しないオープンな基盤を提供し、開発者により大きな柔軟性と精密な制御を可能にします。また、内蔵された開発UIを通じて、エージェントのテスト、評価、デバッグ、表示を支援します。'}"
      ]
     },
     "execution_count": 9,
     "metadata": {},
     "output_type": "execute_result"
    }
   ],
   "source": [
    "query = \"google-adkについて\"\n",
    "web_result = web_search(query)\n",
    "web_result"
   ]
  },
  {
   "cell_type": "code",
   "execution_count": null,
   "id": "47247883",
   "metadata": {},
   "outputs": [],
   "source": []
  }
 ],
 "metadata": {
  "kernelspec": {
   "display_name": "study_gcp",
   "language": "python",
   "name": "python3"
  },
  "language_info": {
   "codemirror_mode": {
    "name": "ipython",
    "version": 3
   },
   "file_extension": ".py",
   "mimetype": "text/x-python",
   "name": "python",
   "nbconvert_exporter": "python",
   "pygments_lexer": "ipython3",
   "version": "3.12.11"
  }
 },
 "nbformat": 4,
 "nbformat_minor": 5
}
