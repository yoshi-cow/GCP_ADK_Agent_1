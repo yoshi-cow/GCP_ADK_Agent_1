{
 "cells": [
  {
   "cell_type": "markdown",
   "id": "8e367d71",
   "metadata": {},
   "source": [
    "# Vertex AI RAG Engine にベクトル DB 作成\n"
   ]
  },
  {
   "cell_type": "code",
   "execution_count": null,
   "id": "d20ca8d9",
   "metadata": {},
   "outputs": [
    {
     "data": {
      "text/plain": [
       "True"
      ]
     },
     "execution_count": 4,
     "metadata": {},
     "output_type": "execute_result"
    }
   ],
   "source": [
    "from vertexai import rag\n",
    "\n",
    "# from vertexai.generative_models import GenerativeModel, Tool\n",
    "import vertexai\n",
    "\n",
    "import os\n",
    "from dotenv import load_dotenv\n",
    "\n",
    "load_dotenv()"
   ]
  },
  {
   "cell_type": "markdown",
   "id": "23fddfb2",
   "metadata": {},
   "source": [
    "# コーパスの作成\n",
    "\n",
    "- RAG Engine 作成時、デフォルトのベクトル DB は、RagManagedDb が選択される\n",
    "- ほかにもベクトル DB として pinecone などを選択できる\n"
   ]
  },
  {
   "cell_type": "code",
   "execution_count": 5,
   "id": "dcca4ed3",
   "metadata": {},
   "outputs": [
    {
     "name": "stdout",
     "output_type": "stream",
     "text": [
      "Initializing Vertex AI with project=adk-rag-first, location=us-central1\n",
      "Vertex AI initialization successful\n"
     ]
    }
   ],
   "source": [
    "# Get Vertex AI configuration from environment\n",
    "PROJECT_ID = os.environ.get(\"GOOGLE_CLOUD_PROJECT\")\n",
    "LOCATION = os.environ.get(\"GOOGLE_CLOUD_LOCATION\")\n",
    "\n",
    "# Initialize Vertex AI at package load time\n",
    "try:\n",
    "    if PROJECT_ID and LOCATION:\n",
    "        print(f\"Initializing Vertex AI with project={PROJECT_ID}, location={LOCATION}\")\n",
    "        vertexai.init(project=PROJECT_ID, location=LOCATION)\n",
    "        print(\"Vertex AI initialization successful\")\n",
    "    else:\n",
    "        print(\n",
    "            f\"Missing Vertex AI configuration. PROJECT_ID={PROJECT_ID}, LOCATION={LOCATION}. \"\n",
    "            f\"Tools requiring Vertex AI may not work properly.\"\n",
    "        )\n",
    "except Exception as e:\n",
    "    print(f\"Failed to initialize Vertex AI: {str(e)}\")\n",
    "    print(\"Please check your Google Cloud credentials and project settings.\")"
   ]
  },
  {
   "cell_type": "code",
   "execution_count": null,
   "id": "6abe4560",
   "metadata": {},
   "outputs": [],
   "source": [
    "# Embedding modelの設定\n",
    "# 日本語なので多言語モデルを選択\n",
    "embedding_model_config = rag.RagEmbeddingModelConfig(\n",
    "    vertex_prediction_endpoint=rag.VertexPredictionEndpoint(\n",
    "        publisher_model=\"publishers/google/models/text-multilingual-embedding-002\"\n",
    "    )\n",
    ")"
   ]
  },
  {
   "cell_type": "code",
   "execution_count": null,
   "id": "5a07369d",
   "metadata": {},
   "outputs": [
    {
     "name": "stdout",
     "output_type": "stream",
     "text": [
      "rag corpus name: projects/522424496787/locations/us-central1/ragCorpora/137359788634800128\n"
     ]
    }
   ],
   "source": [
    "# コーパスの作成\n",
    "display_name = \"test_corpus\"\n",
    "rag_corpus = rag.create_corpus(\n",
    "    display_name=display_name,\n",
    "    backend_config=rag.RagVectorDbConfig(\n",
    "        rag_embedding_model_config=embedding_model_config,\n",
    "    ),\n",
    ")\n",
    "\n",
    "print(f\"rag corpus name: {rag_corpus.name}\")"
   ]
  },
  {
   "cell_type": "code",
   "execution_count": 9,
   "id": "870cc78c",
   "metadata": {},
   "outputs": [
    {
     "data": {
      "text/plain": [
       "imported_rag_files_count: 1"
      ]
     },
     "execution_count": 9,
     "metadata": {},
     "output_type": "execute_result"
    }
   ],
   "source": [
    "# RAG対象ファイルのインポート\n",
    "paths = [\n",
    "    \"gs://test_bucket_for_access_check/merge_tags_content.txt\",\n",
    "]\n",
    "rag.import_files(\n",
    "    corpus_name=rag_corpus.name,\n",
    "    paths=paths,\n",
    "    transformation_config=rag.TransformationConfig(\n",
    "        chunking_config=rag.ChunkingConfig(\n",
    "            chunk_size=256,\n",
    "            chunk_overlap=50,\n",
    "        ),\n",
    "    ),\n",
    "    max_embedding_requests_per_min=1000,\n",
    ")"
   ]
  },
  {
   "cell_type": "markdown",
   "id": "e43ed799",
   "metadata": {},
   "source": [
    "# RAG 検索試し\n",
    "\n",
    "- score は、コサイン類似度を利用し、『1-cos(Θ)』値なので値が小さいほど類似している\n",
    "- score の範囲：0~2（0 に近いほど類似）\n"
   ]
  },
  {
   "cell_type": "code",
   "execution_count": 10,
   "id": "d19d2e29",
   "metadata": {},
   "outputs": [],
   "source": [
    "# RAG corpusのパスをセット\n",
    "rag_corpus_path = rag_corpus.name"
   ]
  },
  {
   "cell_type": "code",
   "execution_count": null,
   "id": "396193a6",
   "metadata": {},
   "outputs": [],
   "source": [
    "# query実行\n",
    "\n",
    "query = \"tags:貸付・融資, content:農林漁業にたいするコロナウイルス対策支援について\"\n",
    "\n",
    "response = rag.retrieval_query(\n",
    "    rag_resources=[rag.RagResource(rag_corpus=rag_corpus_path)],\n",
    "    text=query,\n",
    "    rag_retrieval_config=rag.RagRetrievalConfig(\n",
    "        top_k=3,\n",
    "    ),\n",
    ")"
   ]
  },
  {
   "cell_type": "code",
   "execution_count": 12,
   "id": "553d3816",
   "metadata": {},
   "outputs": [
    {
     "data": {
      "text/plain": [
       "contexts {\n",
       "  contexts {\n",
       "    source_uri: \"gs://test_bucket_for_access_check/merge_tags_content.txt\"\n",
       "    text: \"1人の雇用につき20万円の助成金を支給します。\\r\\ntags:貸付・融資, content:新型コロナウイルス感染症対応農林漁業特別対策資金新型コロナウイルス感染症により、事業活動に影響を受けている農林漁業者等の方々に向けた運転資金の融資で、農林漁業の各近代化資金の枠組みにより実施するものです。\"\n",
       "    source_display_name: \"merge_tags_content.txt\"\n",
       "    score: 0.1421343965535613\n",
       "    chunk {\n",
       "      text: \"1人の雇用につき20万円の助成金を支給します。\\r\\ntags:貸付・融資, content:新型コロナウイルス感染症対応農林漁業特別対策資金新型コロナウイルス感染症により、事業活動に影響を受けている農林漁業者等の方々に向けた運転資金の融資で、農林漁業の各近代化資金の枠組みにより実施するものです。\"\n",
       "    }\n",
       "  }\n",
       "  contexts {\n",
       "    source_uri: \"gs://test_bucket_for_access_check/merge_tags_content.txt\"\n",
       "    text: \"tags:貸付・融資, content:新型コロナウイルス感染症対応融資（伴走全国）新型コロナウイルス感染症の影響を受け、売上等が減少している都内中小企業の方々が、金融機関との対話を通じて策定する経営行動計画書に基づき、金融機関による継続的な伴走支援を受けながら、経営改善等を図る場合にご利用いただけます。＜融資限度額＞：6,\"\n",
       "    source_display_name: \"merge_tags_content.txt\"\n",
       "    score: 0.18051889404561183\n",
       "    chunk {\n",
       "      text: \"tags:貸付・融資, content:新型コロナウイルス感染症対応融資（伴走全国）新型コロナウイルス感染症の影響を受け、売上等が減少している都内中小企業の方々が、金融機関との対話を通じて策定する経営行動計画書に基づき、金融機関による継続的な伴走支援を受けながら、経営改善等を図る場合にご利用いただけます。＜融資限度額＞：6,\"\n",
       "    }\n",
       "  }\n",
       "  contexts {\n",
       "    source_uri: \"gs://test_bucket_for_access_check/merge_tags_content.txt\"\n",
       "    text: \"000円（税込）で利用可能\\r\\ntags:貸付・融資, content:新型コロナウイルス感染症の影響を受けた休業や失業等による緊急小口資金、総合支援資金（特例貸付）新型コロナウイルス感染症の影響を受け、収入の減少や失業・休業などにより生活資金でお困りの方に、無利子で貸付を行います。1.\"\n",
       "    source_display_name: \"merge_tags_content.txt\"\n",
       "    score: 0.1849476174047644\n",
       "    chunk {\n",
       "      text: \"000円（税込）で利用可能\\r\\ntags:貸付・融資, content:新型コロナウイルス感染症の影響を受けた休業や失業等による緊急小口資金、総合支援資金（特例貸付）新型コロナウイルス感染症の影響を受け、収入の減少や失業・休業などにより生活資金でお困りの方に、無利子で貸付を行います。1.\"\n",
       "    }\n",
       "  }\n",
       "}"
      ]
     },
     "execution_count": 12,
     "metadata": {},
     "output_type": "execute_result"
    }
   ],
   "source": [
    "response"
   ]
  },
  {
   "cell_type": "code",
   "execution_count": null,
   "id": "a7ad1aea",
   "metadata": {},
   "outputs": [
    {
     "data": {
      "text/plain": [
       "[{'content': '1人の雇用につき20万円の助成金を支給します。\\r\\ntags:貸付・融資, content:新型コロナウイルス感染症対応農林漁業特別対策資金新型コロナウイルス感染症により、事業活動に影響を受けている農林漁業者等の方々に向けた運転資金の融資で、農林漁業の各近代化資金の枠組みにより実施するものです。',\n",
       "  'uri': 'gs://test_bucket_for_access_check/merge_tags_content.txt',\n",
       "  'score': 0.1421343965535613},\n",
       " {'content': 'tags:貸付・融資, content:新型コロナウイルス感染症対応融資（伴走全国）新型コロナウイルス感染症の影響を受け、売上等が減少している都内中小企業の方々が、金融機関との対話を通じて策定する経営行動計画書に基づき、金融機関による継続的な伴走支援を受けながら、経営改善等を図る場合にご利用いただけます。＜融資限度額＞：6,',\n",
       "  'uri': 'gs://test_bucket_for_access_check/merge_tags_content.txt',\n",
       "  'score': 0.18051889404561183},\n",
       " {'content': '000円（税込）で利用可能\\r\\ntags:貸付・融資, content:新型コロナウイルス感染症の影響を受けた休業や失業等による緊急小口資金、総合支援資金（特例貸付）新型コロナウイルス感染症の影響を受け、収入の減少や失業・休業などにより生活資金でお困りの方に、無利子で貸付を行います。1.',\n",
       "  'uri': 'gs://test_bucket_for_access_check/merge_tags_content.txt',\n",
       "  'score': 0.1849476174047644}]"
      ]
     },
     "execution_count": 13,
     "metadata": {},
     "output_type": "execute_result"
    }
   ],
   "source": [
    "result = [\n",
    "    {\n",
    "        \"content\": ctx.text,  # 取り出したチャンク本文\n",
    "        # \"uri\": ctx.source_uri,  # 元ファイルの GCS URI など\n",
    "        \"score\": ctx.score,  # コサイン距離 (小さいほど類似)\n",
    "    }\n",
    "    for ctx in response.contexts.contexts\n",
    "]\n",
    "\n",
    "result"
   ]
  },
  {
   "cell_type": "code",
   "execution_count": null,
   "id": "69bed1cc",
   "metadata": {},
   "outputs": [],
   "source": []
  }
 ],
 "metadata": {
  "kernelspec": {
   "display_name": "study_gcp",
   "language": "python",
   "name": "python3"
  },
  "language_info": {
   "codemirror_mode": {
    "name": "ipython",
    "version": 3
   },
   "file_extension": ".py",
   "mimetype": "text/x-python",
   "name": "python",
   "nbconvert_exporter": "python",
   "pygments_lexer": "ipython3",
   "version": "3.12.11"
  }
 },
 "nbformat": 4,
 "nbformat_minor": 5
}
